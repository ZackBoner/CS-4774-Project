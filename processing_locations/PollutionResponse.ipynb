{
  "nbformat": 4,
  "nbformat_minor": 0,
  "metadata": {
    "colab": {
      "name": "PollutionResponse.ipynb",
      "provenance": [],
      "collapsed_sections": []
    },
    "kernelspec": {
      "name": "python3",
      "display_name": "Python 3"
    }
  },
  "cells": [
    {
      "cell_type": "markdown",
      "metadata": {
        "id": "FBAugk5e6wxj"
      },
      "source": [
        "Pollution Response Dataset"
      ]
    },
    {
      "cell_type": "code",
      "metadata": {
        "id": "IgnFH7Ks381H"
      },
      "source": [
        "import pandas as pd\n",
        "import urllib\n",
        "import json\n",
        "from geopy.geocoders import Nominatim\n",
        "from geopy.extra.rate_limiter import RateLimiter"
      ],
      "execution_count": null,
      "outputs": []
    },
    {
      "cell_type": "code",
      "metadata": {
        "id": "LX5OLuVw3-3R"
      },
      "source": [
        "geolocator = Nominatim(user_agent=\"ENVEQ\")\n",
        "pollution = pd.read_csv(\"https://opendata.arcgis.com/datasets/0f969f1e7679463c8ec5a121b9ec10cb_175.csv?outSR=%7B%22latestWkid%22%3A3857%2C%22wkid%22%3A102100%7D\")"
      ],
      "execution_count": null,
      "outputs": []
    },
    {
      "cell_type": "code",
      "metadata": {
        "colab": {
          "base_uri": "https://localhost:8080/"
        },
        "id": "UTQkwaMM74sT",
        "outputId": "9d3a4ec8-1b79-4b0b-c05a-b6051e8f3e95"
      },
      "source": [
        "pollution.info()"
      ],
      "execution_count": null,
      "outputs": [
        {
          "output_type": "stream",
          "text": [
            "<class 'pandas.core.frame.DataFrame'>\n",
            "RangeIndex: 7652 entries, 0 to 7651\n",
            "Data columns (total 17 columns):\n",
            " #   Column                         Non-Null Count  Dtype  \n",
            "---  ------                         --------------  -----  \n",
            " 0   X                              7652 non-null   float64\n",
            " 1   Y                              7652 non-null   float64\n",
            " 2   OBJECTID                       7652 non-null   int64  \n",
            " 3   REFERENCE_POINT                7652 non-null   object \n",
            " 4   PRP_REPORT_ID                  7651 non-null   float64\n",
            " 5   PRP_REPORT_RECEIVED_DATE_TIME  7652 non-null   object \n",
            " 6   PRP_INCIDENT_DATE_TIME         7652 non-null   object \n",
            " 7   PRP_INCIDENT_CLOSURE_DATE      7652 non-null   object \n",
            " 8   RSC_STATUS_DESCRIPTION         7651 non-null   object \n",
            " 9   SRC_STATUS_REASON_DESC         6915 non-null   object \n",
            " 10  PRP_SITE_NAME                  7644 non-null   object \n",
            " 11  PRP_SITE_ADDRESS1              7361 non-null   object \n",
            " 12  PRP_SITE_ADDRESS2              325 non-null    object \n",
            " 13  PRP_SITE_CITY                  7472 non-null   object \n",
            " 14  PRP_SITE_STATE                 7649 non-null   object \n",
            " 15  PRP_SITE_ZIP_CODE              5920 non-null   object \n",
            " 16  PRP_ASSIGNED_STAFF_PROGRAM_ID  7512 non-null   float64\n",
            "dtypes: float64(4), int64(1), object(12)\n",
            "memory usage: 1016.4+ KB\n"
          ],
          "name": "stdout"
        }
      ]
    },
    {
      "cell_type": "code",
      "metadata": {
        "colab": {
          "base_uri": "https://localhost:8080/",
          "height": 326
        },
        "id": "ycAHYjcR8l_w",
        "outputId": "3ea0a5dc-f85b-42ec-c0ba-08522b0c9bcf"
      },
      "source": [
        "pollution.head(5)"
      ],
      "execution_count": null,
      "outputs": [
        {
          "output_type": "execute_result",
          "data": {
            "text/html": [
              "<div>\n",
              "<style scoped>\n",
              "    .dataframe tbody tr th:only-of-type {\n",
              "        vertical-align: middle;\n",
              "    }\n",
              "\n",
              "    .dataframe tbody tr th {\n",
              "        vertical-align: top;\n",
              "    }\n",
              "\n",
              "    .dataframe thead th {\n",
              "        text-align: right;\n",
              "    }\n",
              "</style>\n",
              "<table border=\"1\" class=\"dataframe\">\n",
              "  <thead>\n",
              "    <tr style=\"text-align: right;\">\n",
              "      <th></th>\n",
              "      <th>X</th>\n",
              "      <th>Y</th>\n",
              "      <th>OBJECTID</th>\n",
              "      <th>REFERENCE_POINT</th>\n",
              "      <th>PRP_REPORT_ID</th>\n",
              "      <th>PRP_REPORT_RECEIVED_DATE_TIME</th>\n",
              "      <th>PRP_INCIDENT_DATE_TIME</th>\n",
              "      <th>PRP_INCIDENT_CLOSURE_DATE</th>\n",
              "      <th>RSC_STATUS_DESCRIPTION</th>\n",
              "      <th>SRC_STATUS_REASON_DESC</th>\n",
              "      <th>PRP_SITE_NAME</th>\n",
              "      <th>PRP_SITE_ADDRESS1</th>\n",
              "      <th>PRP_SITE_ADDRESS2</th>\n",
              "      <th>PRP_SITE_CITY</th>\n",
              "      <th>PRP_SITE_STATE</th>\n",
              "      <th>PRP_SITE_ZIP_CODE</th>\n",
              "      <th>PRP_ASSIGNED_STAFF_PROGRAM_ID</th>\n",
              "    </tr>\n",
              "  </thead>\n",
              "  <tbody>\n",
              "    <tr>\n",
              "      <th>0</th>\n",
              "      <td>-8.496225e+06</td>\n",
              "      <td>4.400668e+06</td>\n",
              "      <td>1</td>\n",
              "      <td>PG</td>\n",
              "      <td>292958.0</td>\n",
              "      <td>2019/12/03 19:36:00+00</td>\n",
              "      <td>2019/12/03 19:36:00+00</td>\n",
              "      <td>2019/12/04 07:59:20+00</td>\n",
              "      <td>Closed</td>\n",
              "      <td>Not within DEQ jurisdiction. Referred to exter...</td>\n",
              "      <td>Propane Release</td>\n",
              "      <td>2035 Sunset Maple Ln</td>\n",
              "      <td>NaN</td>\n",
              "      <td>Chesapeake</td>\n",
              "      <td>VA</td>\n",
              "      <td>23323</td>\n",
              "      <td>261.0</td>\n",
              "    </tr>\n",
              "    <tr>\n",
              "      <th>1</th>\n",
              "      <td>-9.125118e+06</td>\n",
              "      <td>4.394886e+06</td>\n",
              "      <td>2</td>\n",
              "      <td>PG</td>\n",
              "      <td>292960.0</td>\n",
              "      <td>2019/12/03 15:34:00+00</td>\n",
              "      <td>2019/12/03 14:45:00+00</td>\n",
              "      <td>2020/01/15 09:27:30+00</td>\n",
              "      <td>Closed</td>\n",
              "      <td>Appropriate compliance actions completed and v...</td>\n",
              "      <td>Burning demolished house</td>\n",
              "      <td>Green Springs Road</td>\n",
              "      <td>NaN</td>\n",
              "      <td>Abingdon</td>\n",
              "      <td>VA</td>\n",
              "      <td>24210</td>\n",
              "      <td>269.0</td>\n",
              "    </tr>\n",
              "    <tr>\n",
              "      <th>2</th>\n",
              "      <td>-8.778320e+06</td>\n",
              "      <td>4.642689e+06</td>\n",
              "      <td>3</td>\n",
              "      <td>PG</td>\n",
              "      <td>292969.0</td>\n",
              "      <td>2019/12/02 13:30:00+00</td>\n",
              "      <td>2019/12/02 12:00:00+00</td>\n",
              "      <td>2019/12/04 14:48:06+00</td>\n",
              "      <td>Closed</td>\n",
              "      <td>Appropriate compliance actions completed and v...</td>\n",
              "      <td>SSO - City of Harrisonburg</td>\n",
              "      <td>608 Franklin St</td>\n",
              "      <td>NaN</td>\n",
              "      <td>Harrisonburg</td>\n",
              "      <td>VA</td>\n",
              "      <td>22801</td>\n",
              "      <td>41.0</td>\n",
              "    </tr>\n",
              "    <tr>\n",
              "      <th>3</th>\n",
              "      <td>-8.811512e+06</td>\n",
              "      <td>4.497424e+06</td>\n",
              "      <td>4</td>\n",
              "      <td>FC</td>\n",
              "      <td>292981.0</td>\n",
              "      <td>2019/12/05 15:55:58+00</td>\n",
              "      <td>2019/12/05 14:43:00+00</td>\n",
              "      <td>2019/12/09 08:26:54+00</td>\n",
              "      <td>Closed</td>\n",
              "      <td>Pollution report being managed by a media-spec...</td>\n",
              "      <td>Heating Oil Tank Release - 75 Gallons - Ground...</td>\n",
              "      <td>102 Polk Street</td>\n",
              "      <td>NaN</td>\n",
              "      <td>Lynchburg</td>\n",
              "      <td>VA</td>\n",
              "      <td>24504</td>\n",
              "      <td>302.0</td>\n",
              "    </tr>\n",
              "    <tr>\n",
              "      <th>4</th>\n",
              "      <td>-8.799619e+06</td>\n",
              "      <td>4.429732e+06</td>\n",
              "      <td>5</td>\n",
              "      <td>FC</td>\n",
              "      <td>292982.0</td>\n",
              "      <td>2019/12/05 16:15:41+00</td>\n",
              "      <td>2019/12/05 14:34:00+00</td>\n",
              "      <td>2020/01/09 14:32:56+00</td>\n",
              "      <td>Closed</td>\n",
              "      <td>Appropriate compliance actions completed and v...</td>\n",
              "      <td>Uncovered/Unspread Chicken Litter Pile</td>\n",
              "      <td>4027 Leda Grove Road</td>\n",
              "      <td>NaN</td>\n",
              "      <td>Nathalie</td>\n",
              "      <td>VA</td>\n",
              "      <td>24577</td>\n",
              "      <td>72.0</td>\n",
              "    </tr>\n",
              "  </tbody>\n",
              "</table>\n",
              "</div>"
            ],
            "text/plain": [
              "              X             Y  ...  PRP_SITE_ZIP_CODE PRP_ASSIGNED_STAFF_PROGRAM_ID\n",
              "0 -8.496225e+06  4.400668e+06  ...              23323                         261.0\n",
              "1 -9.125118e+06  4.394886e+06  ...              24210                         269.0\n",
              "2 -8.778320e+06  4.642689e+06  ...              22801                          41.0\n",
              "3 -8.811512e+06  4.497424e+06  ...              24504                         302.0\n",
              "4 -8.799619e+06  4.429732e+06  ...              24577                          72.0\n",
              "\n",
              "[5 rows x 17 columns]"
            ]
          },
          "metadata": {
            "tags": []
          },
          "execution_count": 4
        }
      ]
    },
    {
      "cell_type": "code",
      "metadata": {
        "colab": {
          "base_uri": "https://localhost:8080/",
          "height": 204
        },
        "id": "CjIG9AvIBmAs",
        "outputId": "c84cf7f5-6310-4148-cfe4-b10551677722"
      },
      "source": [
        "pollution_subset = pollution[[\"PRP_SITE_ADDRESS1\", \"PRP_SITE_CITY\", \"PRP_SITE_ZIP_CODE\"]].dropna(axis=0, how=\"all\")\n",
        "pollution_subset = pollution_subset.drop_duplicates()\n",
        "pollution_subset = pollution_subset.applymap(str)\n",
        "pollution_subset.head()"
      ],
      "execution_count": null,
      "outputs": [
        {
          "output_type": "execute_result",
          "data": {
            "text/html": [
              "<div>\n",
              "<style scoped>\n",
              "    .dataframe tbody tr th:only-of-type {\n",
              "        vertical-align: middle;\n",
              "    }\n",
              "\n",
              "    .dataframe tbody tr th {\n",
              "        vertical-align: top;\n",
              "    }\n",
              "\n",
              "    .dataframe thead th {\n",
              "        text-align: right;\n",
              "    }\n",
              "</style>\n",
              "<table border=\"1\" class=\"dataframe\">\n",
              "  <thead>\n",
              "    <tr style=\"text-align: right;\">\n",
              "      <th></th>\n",
              "      <th>PRP_SITE_ADDRESS1</th>\n",
              "      <th>PRP_SITE_CITY</th>\n",
              "      <th>PRP_SITE_ZIP_CODE</th>\n",
              "    </tr>\n",
              "  </thead>\n",
              "  <tbody>\n",
              "    <tr>\n",
              "      <th>0</th>\n",
              "      <td>2035 Sunset Maple Ln</td>\n",
              "      <td>Chesapeake</td>\n",
              "      <td>23323</td>\n",
              "    </tr>\n",
              "    <tr>\n",
              "      <th>1</th>\n",
              "      <td>Green Springs Road</td>\n",
              "      <td>Abingdon</td>\n",
              "      <td>24210</td>\n",
              "    </tr>\n",
              "    <tr>\n",
              "      <th>2</th>\n",
              "      <td>608 Franklin St</td>\n",
              "      <td>Harrisonburg</td>\n",
              "      <td>22801</td>\n",
              "    </tr>\n",
              "    <tr>\n",
              "      <th>3</th>\n",
              "      <td>102 Polk Street</td>\n",
              "      <td>Lynchburg</td>\n",
              "      <td>24504</td>\n",
              "    </tr>\n",
              "    <tr>\n",
              "      <th>4</th>\n",
              "      <td>4027 Leda Grove Road</td>\n",
              "      <td>Nathalie</td>\n",
              "      <td>24577</td>\n",
              "    </tr>\n",
              "  </tbody>\n",
              "</table>\n",
              "</div>"
            ],
            "text/plain": [
              "      PRP_SITE_ADDRESS1 PRP_SITE_CITY PRP_SITE_ZIP_CODE\n",
              "0  2035 Sunset Maple Ln    Chesapeake             23323\n",
              "1    Green Springs Road      Abingdon             24210\n",
              "2       608 Franklin St  Harrisonburg             22801\n",
              "3       102 Polk Street     Lynchburg             24504\n",
              "4  4027 Leda Grove Road      Nathalie             24577"
            ]
          },
          "metadata": {
            "tags": []
          },
          "execution_count": 10
        }
      ]
    },
    {
      "cell_type": "code",
      "metadata": {
        "colab": {
          "base_uri": "https://localhost:8080/"
        },
        "id": "Hyn4ecuK_5r2",
        "outputId": "746d9fd8-aaae-41f5-feb1-6c3068c8cc39"
      },
      "source": [
        "pollution_subset[\"FULL_ADDRESS\"] = pollution_subset.apply(lambda row: row.PRP_SITE_ADDRESS1 + \",\" + row.PRP_SITE_CITY + \",VA,United States\", axis=1)\n",
        "pollution_subset[\"MIN_ADDRESS\"] = pollution_subset.apply(lambda row: row.PRP_SITE_CITY+ \",VA,United States\", axis=1)\n",
        "pollution_subset.head()\n",
        "print(pollution_subset.shape)"
      ],
      "execution_count": null,
      "outputs": [
        {
          "output_type": "stream",
          "text": [
            "(6461, 5)\n"
          ],
          "name": "stdout"
        }
      ]
    },
    {
      "cell_type": "code",
      "metadata": {
        "id": "UHPcf4RcHcy1"
      },
      "source": [
        "# 1 - convenient function to delay between geocoding calls\n",
        "geocode = RateLimiter(geolocator.geocode, min_delay_seconds=0.9)\n",
        "# 2- - create location column\n",
        "pollution_subset[\"LOCATION\"] = pollution_subset[\"FULL_ADDRESS\"].apply(geocode)\n",
        "# 3 - create longitude, laatitude and altitude from location column (returns tuple)\n",
        "pollution_subset[\"POINT\"] = pollution_subset[\"LOCATION\"].apply(lambda loc: tuple(loc.point) if loc else None)"
      ],
      "execution_count": null,
      "outputs": []
    },
    {
      "cell_type": "code",
      "metadata": {
        "id": "KR5ogrVW1QW-"
      },
      "source": [
        "# 4 - split point column into latitude, longitude and altitude columns\n",
        "pollution_subset[[\"LAT\", \"LON\", \"ALT\"]] = pd.DataFrame(pollution_subset[\"POINT\"].tolist(), index=pollution_subset.index)"
      ],
      "execution_count": null,
      "outputs": []
    },
    {
      "cell_type": "code",
      "metadata": {
        "colab": {
          "base_uri": "https://localhost:8080/",
          "height": 306
        },
        "id": "8iSp3kha1R5e",
        "outputId": "ac90c1a8-2dea-41e0-8b52-e08a3af56bd9"
      },
      "source": [
        "#delete rows without lat,lon information\n",
        "pollution_subset = pollution_subset.dropna(axis=0, how=\"any\")\n",
        "print(\"Number of rows:\",pollution_subset.shape[0])\n",
        "pollution_subset.head()"
      ],
      "execution_count": null,
      "outputs": [
        {
          "output_type": "stream",
          "text": [
            "Number of rows: 3278\n"
          ],
          "name": "stdout"
        },
        {
          "output_type": "execute_result",
          "data": {
            "text/html": [
              "<div>\n",
              "<style scoped>\n",
              "    .dataframe tbody tr th:only-of-type {\n",
              "        vertical-align: middle;\n",
              "    }\n",
              "\n",
              "    .dataframe tbody tr th {\n",
              "        vertical-align: top;\n",
              "    }\n",
              "\n",
              "    .dataframe thead th {\n",
              "        text-align: right;\n",
              "    }\n",
              "</style>\n",
              "<table border=\"1\" class=\"dataframe\">\n",
              "  <thead>\n",
              "    <tr style=\"text-align: right;\">\n",
              "      <th></th>\n",
              "      <th>PRP_SITE_ADDRESS1</th>\n",
              "      <th>PRP_SITE_CITY</th>\n",
              "      <th>PRP_SITE_ZIP_CODE</th>\n",
              "      <th>FULL_ADDRESS</th>\n",
              "      <th>MIN_ADDRESS</th>\n",
              "      <th>LOCATION</th>\n",
              "      <th>POINT</th>\n",
              "      <th>LAT</th>\n",
              "      <th>LON</th>\n",
              "      <th>ALT</th>\n",
              "    </tr>\n",
              "  </thead>\n",
              "  <tbody>\n",
              "    <tr>\n",
              "      <th>0</th>\n",
              "      <td>2035 Sunset Maple Ln</td>\n",
              "      <td>Chesapeake</td>\n",
              "      <td>23323</td>\n",
              "      <td>2035 Sunset Maple Ln,Chesapeake,VA,United States</td>\n",
              "      <td>Chesapeake,VA,United States</td>\n",
              "      <td>(2035, Sunset Maple Lane, Grassfield, Chesapea...</td>\n",
              "      <td>(36.72363695, -76.32287478049942, 0.0)</td>\n",
              "      <td>36.723637</td>\n",
              "      <td>-76.322875</td>\n",
              "      <td>0.0</td>\n",
              "    </tr>\n",
              "    <tr>\n",
              "      <th>2</th>\n",
              "      <td>608 Franklin St</td>\n",
              "      <td>Harrisonburg</td>\n",
              "      <td>22801</td>\n",
              "      <td>608 Franklin St,Harrisonburg,VA,United States</td>\n",
              "      <td>Harrisonburg,VA,United States</td>\n",
              "      <td>(608, Franklin Street, Preston Heights, Harris...</td>\n",
              "      <td>(38.446588180491524, -78.85729824043148, 0.0)</td>\n",
              "      <td>38.446588</td>\n",
              "      <td>-78.857298</td>\n",
              "      <td>0.0</td>\n",
              "    </tr>\n",
              "    <tr>\n",
              "      <th>3</th>\n",
              "      <td>102 Polk Street</td>\n",
              "      <td>Lynchburg</td>\n",
              "      <td>24504</td>\n",
              "      <td>102 Polk Street,Lynchburg,VA,United States</td>\n",
              "      <td>Lynchburg,VA,United States</td>\n",
              "      <td>(102, Polk Street, Garland Hill, Lynchburg, Ly...</td>\n",
              "      <td>(37.417206101977875, -79.15526389517936, 0.0)</td>\n",
              "      <td>37.417206</td>\n",
              "      <td>-79.155264</td>\n",
              "      <td>0.0</td>\n",
              "    </tr>\n",
              "    <tr>\n",
              "      <th>6</th>\n",
              "      <td>210 Emmet Street South</td>\n",
              "      <td>Charlottesville</td>\n",
              "      <td>22903</td>\n",
              "      <td>210 Emmet Street South,Charlottesville,VA,Unit...</td>\n",
              "      <td>Charlottesville,VA,United States</td>\n",
              "      <td>(Emmet Street South, Lewis Mountain, Charlotte...</td>\n",
              "      <td>(38.0397401, -78.5067118, 0.0)</td>\n",
              "      <td>38.039740</td>\n",
              "      <td>-78.506712</td>\n",
              "      <td>0.0</td>\n",
              "    </tr>\n",
              "    <tr>\n",
              "      <th>7</th>\n",
              "      <td>nan</td>\n",
              "      <td>Midlothian</td>\n",
              "      <td>nan</td>\n",
              "      <td>nan,Midlothian,VA,United States</td>\n",
              "      <td>Midlothian,VA,United States</td>\n",
              "      <td>(Midlothian Post Office, 14722, Crawford Avenu...</td>\n",
              "      <td>(41.6247325, -87.71808525943396, 0.0)</td>\n",
              "      <td>41.624733</td>\n",
              "      <td>-87.718085</td>\n",
              "      <td>0.0</td>\n",
              "    </tr>\n",
              "  </tbody>\n",
              "</table>\n",
              "</div>"
            ],
            "text/plain": [
              "        PRP_SITE_ADDRESS1    PRP_SITE_CITY  ...        LON  ALT\n",
              "0    2035 Sunset Maple Ln       Chesapeake  ... -76.322875  0.0\n",
              "2         608 Franklin St     Harrisonburg  ... -78.857298  0.0\n",
              "3         102 Polk Street        Lynchburg  ... -79.155264  0.0\n",
              "6  210 Emmet Street South  Charlottesville  ... -78.506712  0.0\n",
              "7                     nan       Midlothian  ... -87.718085  0.0\n",
              "\n",
              "[5 rows x 10 columns]"
            ]
          },
          "metadata": {
            "tags": []
          },
          "execution_count": 22
        }
      ]
    },
    {
      "cell_type": "code",
      "metadata": {
        "colab": {
          "base_uri": "https://localhost:8080/",
          "height": 289
        },
        "id": "ik5QzMPc3uid",
        "outputId": "d5b0f036-3263-4749-c872-6af13bfb03ac"
      },
      "source": [
        "# Remove rows that do not conform to the boundaries of Virginia\n",
        "pollution_cleaned = pollution_subset[pollution_subset[\"LON\"] < -75]\n",
        "pollution_cleaned = pollution_cleaned[pollution_cleaned[\"LON\"] > -83]\n",
        "pollution_cleaned = pollution_cleaned[pollution_cleaned[\"LAT\"] < 39]\n",
        "pollution_cleaned = pollution_cleaned[pollution_cleaned[\"LAT\"] > 36]\n",
        "pollution_cleaned.head()"
      ],
      "execution_count": null,
      "outputs": [
        {
          "output_type": "execute_result",
          "data": {
            "text/html": [
              "<div>\n",
              "<style scoped>\n",
              "    .dataframe tbody tr th:only-of-type {\n",
              "        vertical-align: middle;\n",
              "    }\n",
              "\n",
              "    .dataframe tbody tr th {\n",
              "        vertical-align: top;\n",
              "    }\n",
              "\n",
              "    .dataframe thead th {\n",
              "        text-align: right;\n",
              "    }\n",
              "</style>\n",
              "<table border=\"1\" class=\"dataframe\">\n",
              "  <thead>\n",
              "    <tr style=\"text-align: right;\">\n",
              "      <th></th>\n",
              "      <th>PRP_SITE_ADDRESS1</th>\n",
              "      <th>PRP_SITE_CITY</th>\n",
              "      <th>PRP_SITE_ZIP_CODE</th>\n",
              "      <th>FULL_ADDRESS</th>\n",
              "      <th>MIN_ADDRESS</th>\n",
              "      <th>LOCATION</th>\n",
              "      <th>POINT</th>\n",
              "      <th>LAT</th>\n",
              "      <th>LON</th>\n",
              "      <th>ALT</th>\n",
              "    </tr>\n",
              "  </thead>\n",
              "  <tbody>\n",
              "    <tr>\n",
              "      <th>0</th>\n",
              "      <td>2035 Sunset Maple Ln</td>\n",
              "      <td>Chesapeake</td>\n",
              "      <td>23323</td>\n",
              "      <td>2035 Sunset Maple Ln,Chesapeake,VA,United States</td>\n",
              "      <td>Chesapeake,VA,United States</td>\n",
              "      <td>(2035, Sunset Maple Lane, Grassfield, Chesapea...</td>\n",
              "      <td>(36.72363695, -76.32287478049942, 0.0)</td>\n",
              "      <td>36.723637</td>\n",
              "      <td>-76.322875</td>\n",
              "      <td>0.0</td>\n",
              "    </tr>\n",
              "    <tr>\n",
              "      <th>2</th>\n",
              "      <td>608 Franklin St</td>\n",
              "      <td>Harrisonburg</td>\n",
              "      <td>22801</td>\n",
              "      <td>608 Franklin St,Harrisonburg,VA,United States</td>\n",
              "      <td>Harrisonburg,VA,United States</td>\n",
              "      <td>(608, Franklin Street, Preston Heights, Harris...</td>\n",
              "      <td>(38.446588180491524, -78.85729824043148, 0.0)</td>\n",
              "      <td>38.446588</td>\n",
              "      <td>-78.857298</td>\n",
              "      <td>0.0</td>\n",
              "    </tr>\n",
              "    <tr>\n",
              "      <th>3</th>\n",
              "      <td>102 Polk Street</td>\n",
              "      <td>Lynchburg</td>\n",
              "      <td>24504</td>\n",
              "      <td>102 Polk Street,Lynchburg,VA,United States</td>\n",
              "      <td>Lynchburg,VA,United States</td>\n",
              "      <td>(102, Polk Street, Garland Hill, Lynchburg, Ly...</td>\n",
              "      <td>(37.417206101977875, -79.15526389517936, 0.0)</td>\n",
              "      <td>37.417206</td>\n",
              "      <td>-79.155264</td>\n",
              "      <td>0.0</td>\n",
              "    </tr>\n",
              "    <tr>\n",
              "      <th>6</th>\n",
              "      <td>210 Emmet Street South</td>\n",
              "      <td>Charlottesville</td>\n",
              "      <td>22903</td>\n",
              "      <td>210 Emmet Street South,Charlottesville,VA,Unit...</td>\n",
              "      <td>Charlottesville,VA,United States</td>\n",
              "      <td>(Emmet Street South, Lewis Mountain, Charlotte...</td>\n",
              "      <td>(38.0397401, -78.5067118, 0.0)</td>\n",
              "      <td>38.039740</td>\n",
              "      <td>-78.506712</td>\n",
              "      <td>0.0</td>\n",
              "    </tr>\n",
              "    <tr>\n",
              "      <th>13</th>\n",
              "      <td>9324 Virginia ave.</td>\n",
              "      <td>NORFOLK</td>\n",
              "      <td>23511</td>\n",
              "      <td>9324 Virginia ave.,NORFOLK,VA,United States</td>\n",
              "      <td>NORFOLK,VA,United States</td>\n",
              "      <td>(Virginia Avenue, Norfolk, Virginia, 23511-289...</td>\n",
              "      <td>(36.9373437, -76.3218385, 0.0)</td>\n",
              "      <td>36.937344</td>\n",
              "      <td>-76.321838</td>\n",
              "      <td>0.0</td>\n",
              "    </tr>\n",
              "  </tbody>\n",
              "</table>\n",
              "</div>"
            ],
            "text/plain": [
              "         PRP_SITE_ADDRESS1    PRP_SITE_CITY  ...        LON  ALT\n",
              "0     2035 Sunset Maple Ln       Chesapeake  ... -76.322875  0.0\n",
              "2          608 Franklin St     Harrisonburg  ... -78.857298  0.0\n",
              "3          102 Polk Street        Lynchburg  ... -79.155264  0.0\n",
              "6   210 Emmet Street South  Charlottesville  ... -78.506712  0.0\n",
              "13      9324 Virginia ave.          NORFOLK  ... -76.321838  0.0\n",
              "\n",
              "[5 rows x 10 columns]"
            ]
          },
          "metadata": {
            "tags": []
          },
          "execution_count": 33
        }
      ]
    },
    {
      "cell_type": "code",
      "metadata": {
        "colab": {
          "base_uri": "https://localhost:8080/",
          "height": 296
        },
        "id": "nAQZSzJe2v7J",
        "outputId": "f6961856-d822-4582-ae4c-a700b52b47b9"
      },
      "source": [
        "# graph the data to see whether it looks like Virginia\n",
        "import seaborn as sns\n",
        "sns.scatterplot(x=\"LON\", y=\"LAT\", data=pollution_cleaned)"
      ],
      "execution_count": null,
      "outputs": [
        {
          "output_type": "execute_result",
          "data": {
            "text/plain": [
              "<matplotlib.axes._subplots.AxesSubplot at 0x7fcf0cf3b710>"
            ]
          },
          "metadata": {
            "tags": []
          },
          "execution_count": 34
        },
        {
          "output_type": "display_data",
          "data": {
            "image/png": "[encoded data removed]",
            "text/plain": [
              "<Figure size 432x288 with 1 Axes>"
            ]
          },
          "metadata": {
            "tags": [],
            "needs_background": "light"
          }
        }
      ]
    },
    {
      "cell_type": "code",
      "metadata": {
        "colab": {
          "base_uri": "https://localhost:8080/"
        },
        "id": "AQrIGvgz2FGp",
        "outputId": "a39e77a6-c246-475e-81ad-4d04e39a244a"
      },
      "source": [
        "# Zip the dataset into a csv file and save it locally\n",
        "import pickle\n",
        "print(pollution_cleaned.shape[0])\n",
        "pollution_final = pollution_cleaned[[\"FULL_ADDRESS\", \"MIN_ADDRESS\",\"LAT\",\"LON\"]]\n",
        "pollution_final.to_pickle(\"pollution_reports.pkl\")"
      ],
      "execution_count": null,
      "outputs": [
        {
          "output_type": "stream",
          "text": [
            "3062\n"
          ],
          "name": "stdout"
        }
      ]
    }
  ]
}